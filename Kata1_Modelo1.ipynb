{
 "cells": [
  {
   "cell_type": "code",
   "execution_count": null,
   "metadata": {},
   "outputs": [],
   "source": [
    "## Primer programa FECHA"
   ]
  },
  {
   "cell_type": "code",
   "execution_count": 4,
   "metadata": {},
   "outputs": [
    {
     "name": "stdout",
     "output_type": "stream",
     "text": [
      "La fecha de hoy es:2022-02-10\n"
     ]
    }
   ],
   "source": [
    "from datetime import date\n",
    "\n",
    "print(\"La fecha de hoy es:\"+ str(date.today()))"
   ]
  },
  {
   "cell_type": "markdown",
   "metadata": {},
   "source": [
    "## CONVERTIDOR DE UNIDADES"
   ]
  },
  {
   "cell_type": "code",
   "execution_count": 25,
   "metadata": {},
   "outputs": [
    {
     "name": "stdout",
     "output_type": "stream",
     "text": [
      "10 parsec, is 0 lightyears\n",
      "Los años luz de 10 es de 32.6156\n"
     ]
    }
   ],
   "source": [
    "parsec = 10\n",
    "lightyears = 0\n",
    "print(str(parsec) + \" parsec, is \" + str(lightyears) + \" lightyears\")\n",
    "# Mi solución\n",
    "un_paserc = 3.26156\n",
    "lightyears = parsec * un_paserc\n",
    "print(\"Los años luz de \" + str(parsec) + \" es de \"+ str(lightyears))"
   ]
  },
  {
   "cell_type": "markdown",
   "metadata": {},
   "source": [
    "## OPERACIONES"
   ]
  },
  {
   "cell_type": "code",
   "execution_count": 17,
   "metadata": {},
   "outputs": [
    {
     "name": "stdout",
     "output_type": "stream",
     "text": [
      "Calculadora\n",
      "La suma es 1650\n",
      "La resta es 1400\n",
      "La multiplicacion es 190625\n",
      "La divición es 12.2\n"
     ]
    }
   ],
   "source": [
    "print(\"Calculadora\")\n",
    "#first_number = input(\"Primer número: \")\n",
    "#second_number = input(\"Segundo número: \")\n",
    "\n",
    "\n",
    "first_number = 125\n",
    "second_number = 1525\n",
    "print(\"La suma es \"+ str(first_number + second_number))\n",
    "print(\"La resta es \" + str(second_number - first_number))\n",
    "print(\"La multiplicacion es \" + str(first_number * second_number))\n",
    "print(\"La divición es \" + str(second_number / first_number))\n"
   ]
  }
 ],
 "metadata": {
  "interpreter": {
   "hash": "922319c05ba8e6e590db2ee3416482a730818fc910d9382f56aa331dad9183a4"
  },
  "kernelspec": {
   "display_name": "Python 3.10.2 64-bit",
   "language": "python",
   "name": "python3"
  },
  "language_info": {
   "codemirror_mode": {
    "name": "ipython",
    "version": 3
   },
   "file_extension": ".py",
   "mimetype": "text/x-python",
   "name": "python",
   "nbconvert_exporter": "python",
   "pygments_lexer": "ipython3",
   "version": "3.10.2"
  },
  "orig_nbformat": 4
 },
 "nbformat": 4,
 "nbformat_minor": 2
}
