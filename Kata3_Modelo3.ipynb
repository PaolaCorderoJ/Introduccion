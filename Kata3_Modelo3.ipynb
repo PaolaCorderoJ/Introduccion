{
 "cells": [
  {
   "cell_type": "markdown",
   "metadata": {},
   "source": [
    "## DECLARACION IF , else, elif"
   ]
  },
  {
   "cell_type": "code",
   "execution_count": 5,
   "metadata": {},
   "outputs": [
    {
     "name": "stdout",
     "output_type": "stream",
     "text": [
      "El equipo uno gano el partido\n"
     ]
    }
   ],
   "source": [
    "Goles_teamUno = 5\n",
    "Goles_teamDos = 3\n",
    "\n",
    "if Goles_teamDos < Goles_teamUno :\n",
    "    print(\"El equipo uno gano el partido\")\n",
    "else :\n",
    "    print(\"El equipo dos gano el partido\")\n"
   ]
  },
  {
   "cell_type": "code",
   "execution_count": 8,
   "metadata": {},
   "outputs": [
    {
     "name": "stdout",
     "output_type": "stream",
     "text": [
      "El equipo uno gan el partido 10 - 3\n"
     ]
    }
   ],
   "source": [
    "Goles_teamUno = 10\n",
    "Goles_teamDos = 3\n",
    "\n",
    "if Goles_teamUno > Goles_teamDos :\n",
    "    print(\"El equipo uno gan el partido \" + str(Goles_teamUno) + \" - \" + str(Goles_teamDos))\n",
    "elif Goles_teamDos == Goles_teamUno :\n",
    "    print(\"El partido quedo empatado \"+ str(Goles_teamUno) + \" - \" + str(Goles_teamDos))\n",
    "else :\n",
    "    print(\"El equipo dos gano el partido \" + str(Goles_teamDos)+ \" - \" + str(Goles_teamUno))"
   ]
  },
  {
   "cell_type": "code",
   "execution_count": 9,
   "metadata": {},
   "outputs": [
    {
     "name": "stdout",
     "output_type": "stream",
     "text": [
      "El equipo dos gano el partido 3 - 1\n"
     ]
    }
   ],
   "source": [
    "Goles_teamUno = 1\n",
    "Goles_teamDos = 3\n",
    "\n",
    "if Goles_teamUno > Goles_teamDos :\n",
    "    print(\"El equipo uno gan el partido \" + str(Goles_teamUno) + \" - \" + str(Goles_teamDos))\n",
    "elif Goles_teamDos == Goles_teamUno :\n",
    "    print(\"El partido quedo empatado \"+ str(Goles_teamUno) + \" - \" + str(Goles_teamDos))\n",
    "else :\n",
    "    print(\"El equipo dos gano el partido \" + str(Goles_teamDos)+ \" - \" + str(Goles_teamUno))"
   ]
  },
  {
   "cell_type": "code",
   "execution_count": 10,
   "metadata": {},
   "outputs": [
    {
     "name": "stdout",
     "output_type": "stream",
     "text": [
      "El partido quedo empatado 3 - 3\n"
     ]
    }
   ],
   "source": [
    "Goles_teamUno = 3\n",
    "Goles_teamDos = 3\n",
    "\n",
    "if Goles_teamUno > Goles_teamDos :\n",
    "    print(\"El equipo uno gan el partido \" + str(Goles_teamUno) + \" - \" + str(Goles_teamDos))\n",
    "elif Goles_teamDos == Goles_teamUno :\n",
    "    print(\"El partido quedo empatado \"+ str(Goles_teamUno) + \" - \" + str(Goles_teamDos))\n",
    "else :\n",
    "    print(\"El equipo dos gano el partido \" + str(Goles_teamDos)+ \" - \" + str(Goles_teamUno))"
   ]
  },
  {
   "cell_type": "markdown",
   "metadata": {},
   "source": [
    "## ASTEROIDE"
   ]
  },
  {
   "cell_type": "code",
   "execution_count": 15,
   "metadata": {},
   "outputs": [
    {
     "name": "stdout",
     "output_type": "stream",
     "text": [
      "¡Advertencia!! un asteroide se acerca a una velocidad de 49km/s\n"
     ]
    }
   ],
   "source": [
    "velocidad=49\n",
    "if velocidad >=25:\n",
    "    print(\"¡Advertencia!! un asteroide se acerca a una velocidad de \"+ str(velocidad) + \"km/s\")\n",
    "else:\n",
    "    print(\"El asteroide aun se encuetra fuera del alcance de la Tierra\")\n"
   ]
  },
  {
   "cell_type": "code",
   "execution_count": 18,
   "metadata": {},
   "outputs": [
    {
     "name": "stdout",
     "output_type": "stream",
     "text": [
      "Hay un asteroide que se dirige a la tierra a una velocidad de 19 km/s\n"
     ]
    }
   ],
   "source": [
    "velocidad = 19\n",
    "if velocidad == 19:\n",
    "    print(\"Hay un asteroide que se dirige a la tierra a una velocidad de \" + str(velocidad) +\" km/s\")\n",
    "elif velocidad >=20:\n",
    "    print(\"Se puede ver un rayo de Luz desde la Tierra\")\n",
    "else:\n",
    "    print(\"NO se puede ver el rayo de luz desde la Tierra\")"
   ]
  },
  {
   "cell_type": "markdown",
   "metadata": {},
   "source": [
    "## Asteroides utilizando AND.OR"
   ]
  },
  {
   "cell_type": "code",
   "execution_count": 25,
   "metadata": {},
   "outputs": [
    {
     "name": "stdout",
     "output_type": "stream",
     "text": [
      "¡¡Advertencia!! Un asteroide se acerca y producira demasido daño\n"
     ]
    }
   ],
   "source": [
    "velocidad = 30\n",
    "tamaño = 50\n",
    "if velocidad > 25 and tamaño > 25:\n",
    "    print(\"¡¡Advertencia!! Un asteroide se acerca y producira demasido daño\")\n",
    "elif velocidad >=20:\n",
    "    print(\"Se visualiza un luz\")\n",
    "else :\n",
    "    print(\"Sigue con tu vida\")"
   ]
  }
 ],
 "metadata": {
  "interpreter": {
   "hash": "4618a3e65bb199bc97b6e7ca970f0fc5f8cfd462a813696c9f8abbbaf5555525"
  },
  "kernelspec": {
   "display_name": "Python 3.10.2 64-bit (windows store)",
   "language": "python",
   "name": "python3"
  },
  "language_info": {
   "codemirror_mode": {
    "name": "ipython",
    "version": 3
   },
   "file_extension": ".py",
   "mimetype": "text/x-python",
   "name": "python",
   "nbconvert_exporter": "python",
   "pygments_lexer": "ipython3",
   "version": "3.10.2"
  },
  "orig_nbformat": 4
 },
 "nbformat": 4,
 "nbformat_minor": 2
}
