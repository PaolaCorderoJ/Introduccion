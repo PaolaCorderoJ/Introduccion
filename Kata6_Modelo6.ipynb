{
 "cells": [
  {
   "cell_type": "markdown",
   "metadata": {},
   "source": [
    "## CREA LISTAS"
   ]
  },
  {
   "cell_type": "code",
   "execution_count": 7,
   "metadata": {},
   "outputs": [],
   "source": [
    "#Crear lista de planetas\n",
    "planetas = ['Mercurio','Venus','Tierra','Marte','Jupiter','Saturno','Urano','Nepturno']"
   ]
  },
  {
   "cell_type": "code",
   "execution_count": 8,
   "metadata": {},
   "outputs": [
    {
     "name": "stdout",
     "output_type": "stream",
     "text": [
      "Los planetas son: ['Mercurio', 'Venus', 'Tierra', 'Marte', 'Jupiter', 'Saturno', 'Urano', 'Nepturno', 'Plutón']\n"
     ]
    }
   ],
   "source": [
    "#Agregar PLUTON\n",
    "planetas.append('Plutón')\n",
    "print(\"Los planetas son: \"+str(planetas))"
   ]
  },
  {
   "cell_type": "markdown",
   "metadata": {},
   "source": [
    "##DATOS DE UNA LISTA"
   ]
  },
  {
   "cell_type": "code",
   "execution_count": 16,
   "metadata": {},
   "outputs": [
    {
     "name": "stdout",
     "output_type": "stream",
     "text": [
      "Marte\n"
     ]
    }
   ],
   "source": [
    "#Creando lista y solicitando un planeta\n",
    "planetas = ['Mercurio','Venus','Tierra','Marte','Jupiter','Saturno','Urano','Nepturno']\n",
    "nombre = input(\"Ingresa el nombre de un Planeta\")\n",
    "print(nombre)"
   ]
  },
  {
   "cell_type": "code",
   "execution_count": 20,
   "metadata": {},
   "outputs": [
    {
     "name": "stdout",
     "output_type": "stream",
     "text": [
      "El planeta se encuentra en la posición:  3\n"
     ]
    }
   ],
   "source": [
    "#Encontrar el planeta\n",
    "findPlaneta = planetas.index(nombre)\n",
    "print(\"El planeta se encuentra en la posición: \", findPlaneta)"
   ]
  },
  {
   "cell_type": "code",
   "execution_count": 23,
   "metadata": {},
   "outputs": [
    {
     "name": "stdout",
     "output_type": "stream",
     "text": [
      "El planeta que escribio el usuario es:Marte\n",
      "Los planetas cercanos son: ['Mercurio', 'Venus', 'Tierra']\n"
     ]
    }
   ],
   "source": [
    "#Planetas mas cercanos\n",
    "print(\"El planeta que escribio el usuario es:\" + nombre)\n",
    "print(\"Los planetas cercanos son: \"+ str(planetas[0:findPlaneta]))"
   ]
  },
  {
   "cell_type": "code",
   "execution_count": 29,
   "metadata": {},
   "outputs": [
    {
     "name": "stdout",
     "output_type": "stream",
     "text": [
      "El planeta que solicito el usuario es: Marte\n",
      "Los planetas mas lejanos son: ['Marte', 'Jupiter', 'Saturno', 'Urano', 'Nepturno']\n",
      "\n",
      "['Jupiter', 'Saturno', 'Urano', 'Nepturno']\n"
     ]
    }
   ],
   "source": [
    "#planetas mas lejanos\n",
    "print(\"El planeta que solicito el usuario es:\", nombre)\n",
    "print(\"Los planetas mas lejanos son: \"+str(planetas[findPlaneta:]))\n",
    "\n",
    "print(\"\\n\"+str(planetas[findPlaneta +1:]))"
   ]
  }
 ],
 "metadata": {
  "interpreter": {
   "hash": "8e045ce39f78f175ac306ff27b0d537b9ebbb9d25689d06f98dd37cf4760f078"
  },
  "kernelspec": {
   "display_name": "Python 3.10.2 ('env': venv)",
   "language": "python",
   "name": "python3"
  },
  "language_info": {
   "codemirror_mode": {
    "name": "ipython",
    "version": 3
   },
   "file_extension": ".py",
   "mimetype": "text/x-python",
   "name": "python",
   "nbconvert_exporter": "python",
   "pygments_lexer": "ipython3",
   "version": "3.10.2"
  },
  "orig_nbformat": 4
 },
 "nbformat": 4,
 "nbformat_minor": 2
}
