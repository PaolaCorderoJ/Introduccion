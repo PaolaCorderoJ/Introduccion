{
 "cells": [
  {
   "cell_type": "markdown",
   "metadata": {},
   "source": [
    "## Cadenas"
   ]
  },
  {
   "cell_type": "code",
   "execution_count": 5,
   "metadata": {},
   "outputs": [
    {
     "name": "stdout",
     "output_type": "stream",
     "text": [
      "Interesting facts about the Moon. The Moon is Earth's only satellite. There are several interesting facts about the Moon and how it affects life here on Earth. \n",
      "On average, the Moon moves 4cm away from the Earth every year. This yearly drift is not significant enough to cause immediate effects on Earth. The highest daylight temperature of the Moon is 127 C.\n"
     ]
    }
   ],
   "source": [
    "text = \"\"\"Interesting facts about the Moon. The Moon is Earth's only satellite. There are several interesting facts about the Moon and how it affects life here on Earth. \n",
    "On average, the Moon moves 4cm away from the Earth every year. This yearly drift is not significant enough to cause immediate effects on Earth. The highest daylight temperature of the Moon is 127 C.\"\"\"\n",
    "print(text)\n"
   ]
  },
  {
   "cell_type": "code",
   "execution_count": 13,
   "metadata": {},
   "outputs": [
    {
     "name": "stdout",
     "output_type": "stream",
     "text": [
      "['Interesting facts about the Moon', \"The Moon is Earth's only satellite.There are several interesting facts about the Moon and how it affects life here on Earth\", ' On average, the Moon moves 4cm away from the Earth every year', 'This yearly drift is not significant enough to cause immediate effects on Earth', 'The highest daylight temperature of the Moon is 127 C.']\n"
     ]
    }
   ],
   "source": [
    "#Divicion del texto\n",
    "text = \"Interesting facts about the Moon. The Moon is Earth's only satellite.There are several interesting facts about the Moon and how it affects life here on Earth.  On average, the Moon moves 4cm away from the Earth every year. This yearly drift is not significant enough to cause immediate effects on Earth. The highest daylight temperature of the Moon is 127 C.\"\n",
    "text_dividido= text.split('. ')\n",
    "print(text_dividido)"
   ]
  },
  {
   "cell_type": "code",
   "execution_count": 6,
   "metadata": {},
   "outputs": [
    {
     "name": "stdout",
     "output_type": "stream",
     "text": [
      "['average', 'temperature', 'distance']\n"
     ]
    }
   ],
   "source": [
    "#Palabras clave\n",
    "pista =['average','temperature','distance']\n",
    "print(pista)"
   ]
  },
  {
   "cell_type": "code",
   "execution_count": 18,
   "metadata": {},
   "outputs": [
    {
     "name": "stdout",
     "output_type": "stream",
     "text": [
      " On average, the Moon moves 4cm away from the Earth every year\n",
      "The highest daylight temperature of the Moon is 127 C.\n"
     ]
    }
   ],
   "source": [
    "#bucle\n",
    "text_dividido = ['Interesting facts about the Moon', \"The Moon is Earth's only satellite.There are several interesting facts about the Moon and how it affects life here on Earth\", ' On average, the Moon moves 4cm away from the Earth every year', 'This yearly drift is not significant enough to cause immediate effects on Earth', 'The highest daylight temperature of the Moon is 127 C.']\n",
    "pista = ['average', 'temperature', 'distance']\n",
    "for oracion in text_dividido:\n",
    "    for palabra in pista:\n",
    "        if palabra in oracion:\n",
    "            print(oracion)\n",
    "   \n"
   ]
  },
  {
   "cell_type": "code",
   "execution_count": 21,
   "metadata": {},
   "outputs": [
    {
     "name": "stdout",
     "output_type": "stream",
     "text": [
      " On average, the Moon moves 4cm away from the Earth every year\n",
      "The highest daylight temperature of the Moon is 127° Celsius.\n"
     ]
    }
   ],
   "source": [
    "# C a Celsius\n",
    "text_dividido = ['Interesting facts about the Moon', \"The Moon is Earth's only satellite.There are several interesting facts about the Moon and how it affects life here on Earth\",\n",
    "                 ' On average, the Moon moves 4cm away from the Earth every year', 'This yearly drift is not significant enough to cause immediate effects on Earth', 'The highest daylight temperature of the Moon is 127 C.']\n",
    "pista = ['average', 'temperature', 'distance']\n",
    "for oracion in text_dividido:\n",
    "    for palabra in pista:\n",
    "        if palabra in oracion:\n",
    "            print(oracion.replace(' C', '° Celsius'))\n"
   ]
  },
  {
   "cell_type": "markdown",
   "metadata": {},
   "source": [
    "## EJERCICIO 2"
   ]
  },
  {
   "cell_type": "code",
   "execution_count": 28,
   "metadata": {},
   "outputs": [],
   "source": [
    "name = \"Luna\"\n",
    "gravity = 0.00162  # in kms\n",
    "planet = \"Tierra\""
   ]
  },
  {
   "cell_type": "code",
   "execution_count": 31,
   "metadata": {},
   "outputs": [
    {
     "name": "stdout",
     "output_type": "stream",
     "text": [
      "La Luna y la Tierra\n",
      "Informe sobre la Luna\n"
     ]
    }
   ],
   "source": [
    "# TITULO\n",
    "print(\"La \"+name.title()+ \" y la \"+planet.title())\n",
    "\n",
    "title = f'Informe sobre la {name}'\n",
    "print(title)\n"
   ]
  },
  {
   "cell_type": "code",
   "execution_count": 43,
   "metadata": {},
   "outputs": [
    {
     "name": "stdout",
     "output_type": "stream",
     "text": [
      "La gravedad de 0.00162, por lo tanto la gravedad es de 1.6199999999999999m.\n"
     ]
    }
   ],
   "source": [
    "# Plantilla\n",
    "name = \"Luna\"\n",
    "gravity = 0.00162  # in kms\n",
    "info = f'La gravedad de {gravity}, por lo tanto la gravedad es de {gravity * 1000}m.'\n",
    "\n",
    "print(info)"
   ]
  },
  {
   "cell_type": "code",
   "execution_count": 46,
   "metadata": {},
   "outputs": [
    {
     "name": "stdout",
     "output_type": "stream",
     "text": [
      "Informe Sobre La Luna La gravedad de 0.00162, por lo tanto la gravedad es de 1.6199999999999999m.\n"
     ]
    }
   ],
   "source": [
    "#Titulo de ambas variables\n",
    "\n",
    "tituloFinal= f\"\"\"{title.title()} {info}\"\"\"\n",
    "print(tituloFinal)"
   ]
  },
  {
   "cell_type": "code",
   "execution_count": 50,
   "metadata": {},
   "outputs": [],
   "source": [
    "#Nuevos datos\n",
    "planet = 'Marte '\n",
    "gravity = 0.00143\n",
    "name = 'Ganímedes'\n"
   ]
  },
  {
   "cell_type": "code",
   "execution_count": 51,
   "metadata": {},
   "outputs": [
    {
     "name": "stdout",
     "output_type": "stream",
     "text": [
      "Informe Sobre La Luna La gravedad de 0.00162, por lo tanto la gravedad es de 1.6199999999999999m.\n"
     ]
    }
   ],
   "source": [
    "#Comprovando plantilla\n",
    "print(tituloFinal)"
   ]
  },
  {
   "cell_type": "code",
   "execution_count": 53,
   "metadata": {},
   "outputs": [
    {
     "name": "stdout",
     "output_type": "stream",
     "text": [
      "Info sobre Ganímedes en el planeta Marte  donde la gravedad es de 0.00143\n"
     ]
    }
   ],
   "source": [
    "#Nueva platilla con .format()\n",
    "NuevaInfo = \"\"\"Info sobre {name} en el planeta {planet} donde la gravedad es de {gravity}\"\"\"\n",
    "\n",
    "print(NuevaInfo.format(name=name,planet=planet,gravity=gravity))"
   ]
  },
  {
   "cell_type": "code",
   "execution_count": 54,
   "metadata": {},
   "outputs": [
    {
     "name": "stdout",
     "output_type": "stream",
     "text": [
      "Info sobre Ganímedes en el planeta Marte  donde la gravedad es de 1.4300000000000002\n"
     ]
    }
   ],
   "source": [
    "#Realizando la operacion fuera de la plantilla\n",
    "print(NuevaInfo.format(name=name,planet=planet,gravity=gravity*1000))"
   ]
  }
 ],
 "metadata": {
  "interpreter": {
   "hash": "4618a3e65bb199bc97b6e7ca970f0fc5f8cfd462a813696c9f8abbbaf5555525"
  },
  "kernelspec": {
   "display_name": "Python 3.10.2 64-bit (windows store)",
   "language": "python",
   "name": "python3"
  },
  "language_info": {
   "codemirror_mode": {
    "name": "ipython",
    "version": 3
   },
   "file_extension": ".py",
   "mimetype": "text/x-python",
   "name": "python",
   "nbconvert_exporter": "python",
   "pygments_lexer": "ipython3",
   "version": "3.10.2"
  },
  "orig_nbformat": 4
 },
 "nbformat": 4,
 "nbformat_minor": 2
}
