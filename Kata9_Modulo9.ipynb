{
 "cells": [
  {
   "cell_type": "markdown",
   "metadata": {},
   "source": [
    "## Uso de funciones en Python"
   ]
  },
  {
   "cell_type": "code",
   "execution_count": 9,
   "metadata": {},
   "outputs": [
    {
     "data": {
      "text/plain": [
       "'informe:  Tanque1 : 1200, Tanque2: 1500, Tanque3: 10 y el promedio de los tanques: 903.3333333333334'"
      ]
     },
     "execution_count": 9,
     "metadata": {},
     "output_type": "execute_result"
    }
   ],
   "source": [
    "# Función para leer 3 tanques de combustible y muestre el promedio\n",
    "\n",
    "def combustibles(tanque1,tanque2,tanque3):\n",
    "    promedio = (tanque1+tanque2+tanque3) / 3\n",
    "    return f'Informe:  Tanque1 : {tanque1}, Tanque2: {tanque2}, Tanque3: {tanque3} y el promedio de los tanques: {promedio}'\n",
    "\n",
    "combustibles(1200,1500,10)\n"
   ]
  },
  {
   "cell_type": "code",
   "execution_count": 10,
   "metadata": {},
   "outputs": [
    {
     "name": "stdout",
     "output_type": "stream",
     "text": [
      "informe:  Tanque1 : 10, Tanque2: 0, Tanque3: 10 y el promedio de los tanques: 6.666666666666667\n"
     ]
    }
   ],
   "source": [
    "# usando print(funcion(tanque1, tanque2, tanque3))\n",
    "print(combustibles(10, 0, 10))\n"
   ]
  },
  {
   "cell_type": "code",
   "execution_count": 21,
   "metadata": {},
   "outputs": [
    {
     "data": {
      "text/plain": [
       "'El promedio es: 65.0'"
      ]
     },
     "execution_count": 21,
     "metadata": {},
     "output_type": "execute_result"
    }
   ],
   "source": [
    "# Función promedio\n",
    "def prom (valores):\n",
    "    promedio = sum(valores)\n",
    "    total_prmedio = len(valores)\n",
    "    return  f\"\"\"El promedio es: {promedio / total_prmedio}\"\"\"\n",
    "\n",
    "prom([100,75,20])\n",
    "   "
   ]
  },
  {
   "cell_type": "code",
   "execution_count": 22,
   "metadata": {},
   "outputs": [
    {
     "data": {
      "text/plain": [
       "'Informe:  Tanque1 : 10, Tanque2: 10, Tanque3: 10 y  El promedio es: 10.0'"
      ]
     },
     "execution_count": 22,
     "metadata": {},
     "output_type": "execute_result"
    }
   ],
   "source": [
    "#Actualiza la funcion\n",
    "\n",
    "def combustibles(tanque1,tanque2,tanque3):\n",
    "    return f'Informe:  Tanque1 : {tanque1}, Tanque2: {tanque2}, Tanque3: {tanque3} y  {prom([tanque1,tanque2,tanque3])}'\n",
    "\n",
    "combustibles(10,10,10)"
   ]
  },
  {
   "cell_type": "markdown",
   "metadata": {},
   "source": [
    "## Trabajo con argumentos de palabra clave"
   ]
  },
  {
   "cell_type": "code",
   "execution_count": 24,
   "metadata": {},
   "outputs": [
    {
     "name": "stdout",
     "output_type": "stream",
     "text": [
      "\n",
      "    Mision a Marte con tiempo de vuelo de 115 minutos con gasolina: 450000 \n",
      "    \n"
     ]
    }
   ],
   "source": [
    "# Función con un informe preciso de la misión. \n",
    "# Considera hora de prelanzamiento, tiempo de vuelo, destino, tanque externo y tanque interno\n",
    "\n",
    "def reporte (prelanzamiento, tiempo_vuelo, destino, tanque_externo, tanuqe_interno):\n",
    "    return f\"\"\"\n",
    "    Mision a {destino} con tiempo de vuelo de {prelanzamiento + tiempo_vuelo} minutos con gasolina: {tanque_externo + tanuqe_interno} \n",
    "    \"\"\"\n",
    "\n",
    "\n",
    "print(reporte(25, 90, \"Marte\", 300000, 150000))\n"
   ]
  },
  {
   "cell_type": "code",
   "execution_count": 30,
   "metadata": {},
   "outputs": [
    {
     "name": "stdout",
     "output_type": "stream",
     "text": [
      "\n",
      "    Mision a Marte con tiempo de vuelo de 125 minutos con gasolina: 550000 \n",
      "    \n"
     ]
    }
   ],
   "source": [
    "# Escribe tu nueva función de reporte considerando lo anterior\n",
    "def reporte(destino, *minutes, **fuel_reservoirs):\n",
    "    return f\"\"\"\n",
    "    Mision a {destino} con tiempo de vuelo de {sum(minutes)} minutos con gasolina: {sum(fuel_reservoirs.values())} \n",
    "    \"\"\"\n",
    "\n",
    "\n",
    "print(reporte(\"Marte\",25, 90,10, principal=300000, interno=150000, externo=100000))\n"
   ]
  },
  {
   "cell_type": "code",
   "execution_count": 38,
   "metadata": {},
   "outputs": [
    {
     "name": "stdout",
     "output_type": "stream",
     "text": [
      "\n",
      "    Mision a Moon con tiempo de vuelo de 105 minutos con gasolina: 500000 \n",
      "    interno tanque --> 300000 galones\n",
      "externo tanque --> 200000 galones\n",
      "\n"
     ]
    }
   ],
   "source": [
    "#Escribe tu nueva funcion\n",
    "def reporte(destino, *minutes, **fuel_reservoirs):\n",
    "    reporte = f\"\"\"\n",
    "    Mision a {destino} con tiempo de vuelo de {sum(minutes)} minutos con gasolina: {sum(fuel_reservoirs.values())} \n",
    "    \"\"\"\n",
    "    for nombre_tanque, galones in fuel_reservoirs.items():\n",
    "        reporte += f\"{nombre_tanque} tanque --> {galones} galones\\n\"\n",
    "    return reporte\n",
    "\n",
    "\n",
    "print(reporte(\"Moon\", 55, 20, 30, interno=300000, externo=200000))\n"
   ]
  }
 ],
 "metadata": {
  "interpreter": {
   "hash": "922319c05ba8e6e590db2ee3416482a730818fc910d9382f56aa331dad9183a4"
  },
  "kernelspec": {
   "display_name": "Python 3.10.2 64-bit",
   "language": "python",
   "name": "python3"
  },
  "language_info": {
   "codemirror_mode": {
    "name": "ipython",
    "version": 3
   },
   "file_extension": ".py",
   "mimetype": "text/x-python",
   "name": "python",
   "nbconvert_exporter": "python",
   "pygments_lexer": "ipython3",
   "version": "3.10.2"
  },
  "orig_nbformat": 4
 },
 "nbformat": 4,
 "nbformat_minor": 2
}
