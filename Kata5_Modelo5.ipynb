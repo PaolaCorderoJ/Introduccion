{
 "cells": [
  {
   "cell_type": "markdown",
   "metadata": {},
   "source": [
    "## OPERADORES MATEMATICOS"
   ]
  },
  {
   "cell_type": "code",
   "execution_count": 5,
   "metadata": {},
   "outputs": [
    {
     "name": "stdout",
     "output_type": "stream",
     "text": [
      "La distancia entre la Tierra y Jupiter es de 628949330KM\n"
     ]
    }
   ],
   "source": [
    "tierra = 149597870\n",
    "jupiter = 778547200\n",
    "\n",
    "distancia = jupiter - tierra\n",
    "\n",
    "print('La distancia entre la Tierra y Jupiter es de '+ str(distancia) +'KM')"
   ]
  },
  {
   "cell_type": "code",
   "execution_count": 6,
   "metadata": {},
   "outputs": [
    {
     "name": "stdout",
     "output_type": "stream",
     "text": [
      "la distancia en millas es de 390577533.93\n"
     ]
    }
   ],
   "source": [
    "## Conversion a millas\n",
    "distancia = (jupiter-tierra) * 0.621\n",
    "\n",
    "print('la distancia en millas es de ' + str(distancia))"
   ]
  },
  {
   "cell_type": "code",
   "execution_count": 9,
   "metadata": {},
   "outputs": [
    {
     "name": "stdout",
     "output_type": "stream",
     "text": [
      "La distancia entre la Tierra y Jupiter en KM es de 628949330\n",
      "La distancia entre la tierra y jupiter en millas es de 390577534\n"
     ]
    }
   ],
   "source": [
    "# Obteniendo 628949330,390577534\n",
    "\n",
    "from math import ceil, floor\n",
    "distancia = abs(jupiter - tierra)\n",
    "print('La distancia entre la Tierra y Jupiter en KM es de ' + str(distancia))\n",
    "\n",
    "distancia = ceil( (jupiter-tierra) * 0.621)\n",
    "\n",
    "print('La distancia entre la tierra y jupiter en millas es de '+ str(distancia))\n"
   ]
  },
  {
   "cell_type": "markdown",
   "metadata": {},
   "source": [
    "## Convierte cadenas en números y usa valores absolutos"
   ]
  },
  {
   "cell_type": "code",
   "execution_count": 20,
   "metadata": {},
   "outputs": [],
   "source": [
    "\n",
    "valor1= input('Distancia del primero:') \n",
    "valor2 = input('DIstancia del segundo:')\n"
   ]
  },
  {
   "cell_type": "code",
   "execution_count": 21,
   "metadata": {},
   "outputs": [],
   "source": [
    "valor1 = int(valor1)\n",
    "valor2 = int(valor2)"
   ]
  },
  {
   "cell_type": "code",
   "execution_count": 25,
   "metadata": {},
   "outputs": [
    {
     "name": "stdout",
     "output_type": "stream",
     "text": [
      "50300000\n",
      "31236300.0\n"
     ]
    }
   ],
   "source": [
    "#valor absoluto\n",
    "distance = abs(valor2 - valor1)\n",
    "print (distance)\n",
    "\n",
    "# KM a MILLAS\n",
    "millas = distance *0.621\n",
    "print(abs(millas))"
   ]
  }
 ],
 "metadata": {
  "interpreter": {
   "hash": "4618a3e65bb199bc97b6e7ca970f0fc5f8cfd462a813696c9f8abbbaf5555525"
  },
  "kernelspec": {
   "display_name": "Python 3.10.2 64-bit (windows store)",
   "language": "python",
   "name": "python3"
  },
  "language_info": {
   "codemirror_mode": {
    "name": "ipython",
    "version": 3
   },
   "file_extension": ".py",
   "mimetype": "text/x-python",
   "name": "python",
   "nbconvert_exporter": "python",
   "pygments_lexer": "ipython3",
   "version": "3.10.2"
  },
  "orig_nbformat": 4
 },
 "nbformat": 4,
 "nbformat_minor": 2
}
