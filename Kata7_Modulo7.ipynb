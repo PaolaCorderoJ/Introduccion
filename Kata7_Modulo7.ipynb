{
 "cells": [
  {
   "cell_type": "markdown",
   "metadata": {},
   "source": [
    "#Bucle WHILE"
   ]
  },
  {
   "cell_type": "code",
   "execution_count": 8,
   "metadata": {},
   "outputs": [],
   "source": [
    "#Crearndo las variables\n",
    "new_planet =''\n",
    "planets = []\n",
    "new_planet = input()\n"
   ]
  },
  {
   "cell_type": "code",
   "execution_count": 9,
   "metadata": {},
   "outputs": [
    {
     "name": "stdout",
     "output_type": "stream",
     "text": [
      "['Nepturno', 'Mercurio', 'Tierra', 'Plutón']\n"
     ]
    }
   ],
   "source": [
    "#Creando el bucle while\n",
    "while new_planet != 'done':\n",
    "    if new_planet:\n",
    "        planets.append(new_planet)\n",
    "    new_planet = input(\"Agrega un nuevo valor o termina con done\")\n",
    "print(planets)"
   ]
  },
  {
   "cell_type": "markdown",
   "metadata": {},
   "source": [
    "#CICLO FOR"
   ]
  },
  {
   "cell_type": "code",
   "execution_count": 10,
   "metadata": {},
   "outputs": [
    {
     "name": "stdout",
     "output_type": "stream",
     "text": [
      "Nepturno\n",
      "Mercurio\n",
      "Tierra\n",
      "Plutón\n"
     ]
    }
   ],
   "source": [
    "#Mostrar los planetas agregados por el usuario\n",
    "for mostrar in planets:\n",
    "    print(mostrar)"
   ]
  }
 ],
 "metadata": {
  "interpreter": {
   "hash": "4618a3e65bb199bc97b6e7ca970f0fc5f8cfd462a813696c9f8abbbaf5555525"
  },
  "kernelspec": {
   "display_name": "Python 3.10.2 64-bit (windows store)",
   "language": "python",
   "name": "python3"
  },
  "language_info": {
   "codemirror_mode": {
    "name": "ipython",
    "version": 3
   },
   "file_extension": ".py",
   "mimetype": "text/x-python",
   "name": "python",
   "nbconvert_exporter": "python",
   "pygments_lexer": "ipython3",
   "version": "3.10.2"
  },
  "orig_nbformat": 4
 },
 "nbformat": 4,
 "nbformat_minor": 2
}
