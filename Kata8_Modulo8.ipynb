{
 "cells": [
  {
   "cell_type": "markdown",
   "metadata": {},
   "source": [
    "# CREANDO DICCIONARIOS"
   ]
  },
  {
   "cell_type": "code",
   "execution_count": 1,
   "metadata": {},
   "outputs": [],
   "source": [
    "#Diccionario\n",
    "planet = {\n",
    "    'nombre' : 'Marte',\n",
    "    'lunas' : 2\n",
    "}"
   ]
  },
  {
   "cell_type": "code",
   "execution_count": 5,
   "metadata": {},
   "outputs": [
    {
     "name": "stdout",
     "output_type": "stream",
     "text": [
      "Marte\n",
      "2\n"
     ]
    }
   ],
   "source": [
    "#Recuperar valores\n",
    "print(planet.get('nombre'))\n",
    "print(planet['lunas'])"
   ]
  },
  {
   "cell_type": "code",
   "execution_count": 7,
   "metadata": {},
   "outputs": [
    {
     "name": "stdout",
     "output_type": "stream",
     "text": [
      "{'nombre': 'Marte', 'lunas': 2, 'Circunferencia(KM)': {'polar': 6752, 'equatorial': 6792}}\n"
     ]
    }
   ],
   "source": [
    "#Nuevo diccionario\n",
    "planet['Circunferencia(KM)'] = {\n",
    "    'polar' : 6752,\n",
    "    'equatorial' : 6792\n",
    "}\n",
    "\n",
    "print(planet)"
   ]
  },
  {
   "cell_type": "code",
   "execution_count": 14,
   "metadata": {},
   "outputs": [
    {
     "name": "stdout",
     "output_type": "stream",
     "text": [
      "Marte tien un circunferencia polar de: 6752\n"
     ]
    }
   ],
   "source": [
    "#Mostrar el planeta con la circunferencia\n",
    "print(planet['nombre']+\" tien un circunferencia polar de: \"+ str(planet['Circunferencia(KM)']['polar']))"
   ]
  },
  {
   "cell_type": "markdown",
   "metadata": {},
   "source": [
    "## Ejercicio 2: Programación dinámica con diccionarios"
   ]
  },
  {
   "cell_type": "code",
   "execution_count": 15,
   "metadata": {},
   "outputs": [],
   "source": [
    "planet_moons = {\n",
    "    'mercury': 0,\n",
    "    'venus': 0,\n",
    "    'earth': 1,\n",
    "    'mars': 2,\n",
    "    'jupiter': 79,\n",
    "    'saturn': 82,\n",
    "    'uranus': 27,\n",
    "    'neptune': 14,\n",
    "    'pluto': 5,\n",
    "    'haumea': 2,\n",
    "    'makemake': 1,\n",
    "    'eris': 1\n",
    "}\n"
   ]
  },
  {
   "cell_type": "code",
   "execution_count": 25,
   "metadata": {},
   "outputs": [
    {
     "name": "stdout",
     "output_type": "stream",
     "text": [
      "Son 214 lunas en total\n",
      "Hay 12 Planetas en total\n",
      "El promedio es: 17.833333333333332\n"
     ]
    }
   ],
   "source": [
    "#Almacendado valores\n",
    "moons = 0\n",
    "for values in planet_moons.values():\n",
    "    moons = moons + values\n",
    "print(\"Son \" +str(moons) +\" lunas en total\")\n",
    "\n",
    "planets= len(planet_moons)\n",
    "print(\"Hay \" + str(planets) + \" Planetas en total\")\n",
    "\n",
    "promedio = moons / planets\n",
    "print(\"El promedio es: \" + str(promedio))\n"
   ]
  }
 ],
 "metadata": {
  "interpreter": {
   "hash": "922319c05ba8e6e590db2ee3416482a730818fc910d9382f56aa331dad9183a4"
  },
  "kernelspec": {
   "display_name": "Python 3.10.2 64-bit",
   "language": "python",
   "name": "python3"
  },
  "language_info": {
   "codemirror_mode": {
    "name": "ipython",
    "version": 3
   },
   "file_extension": ".py",
   "mimetype": "text/x-python",
   "name": "python",
   "nbconvert_exporter": "python",
   "pygments_lexer": "ipython3",
   "version": "3.10.2"
  },
  "orig_nbformat": 4
 },
 "nbformat": 4,
 "nbformat_minor": 2
}
